{
 "cells": [
  {
   "cell_type": "code",
   "execution_count": 4,
   "metadata": {},
   "outputs": [],
   "source": [
    "import pandas as p \n",
    "import numpy as n "
   ]
  },
  {
   "cell_type": "code",
   "execution_count": 1,
   "metadata": {},
   "outputs": [
    {
     "data": {
      "text/plain": [
       "'/Users/ka53/Desktop/bishkek scooter'"
      ]
     },
     "execution_count": 1,
     "metadata": {},
     "output_type": "execute_result"
    }
   ],
   "source": [
    "pwd"
   ]
  },
  {
   "cell_type": "code",
   "execution_count": 5,
   "metadata": {},
   "outputs": [],
   "source": [
    "df = p.read_csv('/Users/ka53/Desktop/Bishkek Scooter Rental.csv')"
   ]
  },
  {
   "cell_type": "code",
   "execution_count": 6,
   "metadata": {},
   "outputs": [
    {
     "data": {
      "text/html": [
       "<div>\n",
       "<style scoped>\n",
       "    .dataframe tbody tr th:only-of-type {\n",
       "        vertical-align: middle;\n",
       "    }\n",
       "\n",
       "    .dataframe tbody tr th {\n",
       "        vertical-align: top;\n",
       "    }\n",
       "\n",
       "    .dataframe thead th {\n",
       "        text-align: right;\n",
       "    }\n",
       "</style>\n",
       "<table border=\"1\" class=\"dataframe\">\n",
       "  <thead>\n",
       "    <tr style=\"text-align: right;\">\n",
       "      <th></th>\n",
       "      <th>ID</th>\n",
       "      <th>Модель</th>\n",
       "      <th>Компания</th>\n",
       "      <th>Статус</th>\n",
       "      <th>Широта</th>\n",
       "      <th>Долгота</th>\n",
       "    </tr>\n",
       "  </thead>\n",
       "  <tbody>\n",
       "    <tr>\n",
       "      <th>0</th>\n",
       "      <td>1</td>\n",
       "      <td>Okai ES200 B</td>\n",
       "      <td>RentStroy</td>\n",
       "      <td>Доступен</td>\n",
       "      <td>42.857493</td>\n",
       "      <td>74.598913</td>\n",
       "    </tr>\n",
       "    <tr>\n",
       "      <th>1</th>\n",
       "      <td>2</td>\n",
       "      <td>Ninebot Max Plus</td>\n",
       "      <td>TO GO</td>\n",
       "      <td>Доступен</td>\n",
       "      <td>42.860573</td>\n",
       "      <td>74.589943</td>\n",
       "    </tr>\n",
       "    <tr>\n",
       "      <th>2</th>\n",
       "      <td>3</td>\n",
       "      <td>Okai ES200 B</td>\n",
       "      <td>TO GO</td>\n",
       "      <td>Доступен</td>\n",
       "      <td>42.872189</td>\n",
       "      <td>74.608139</td>\n",
       "    </tr>\n",
       "    <tr>\n",
       "      <th>3</th>\n",
       "      <td>4</td>\n",
       "      <td>Kugoo M2 Pro</td>\n",
       "      <td>TO GO</td>\n",
       "      <td>Занят</td>\n",
       "      <td>42.863482</td>\n",
       "      <td>74.600317</td>\n",
       "    </tr>\n",
       "    <tr>\n",
       "      <th>4</th>\n",
       "      <td>5</td>\n",
       "      <td>Kugoo M2 Pro</td>\n",
       "      <td>TO GO</td>\n",
       "      <td>На обслуживании</td>\n",
       "      <td>42.862608</td>\n",
       "      <td>74.606418</td>\n",
       "    </tr>\n",
       "    <tr>\n",
       "      <th>...</th>\n",
       "      <td>...</td>\n",
       "      <td>...</td>\n",
       "      <td>...</td>\n",
       "      <td>...</td>\n",
       "      <td>...</td>\n",
       "      <td>...</td>\n",
       "    </tr>\n",
       "    <tr>\n",
       "      <th>495</th>\n",
       "      <td>496</td>\n",
       "      <td>Xiaomi M365 Pro</td>\n",
       "      <td>RentStroy</td>\n",
       "      <td>На обслуживании</td>\n",
       "      <td>42.876899</td>\n",
       "      <td>74.616329</td>\n",
       "    </tr>\n",
       "    <tr>\n",
       "      <th>496</th>\n",
       "      <td>497</td>\n",
       "      <td>OKAI ES400</td>\n",
       "      <td>TO GO</td>\n",
       "      <td>Занят</td>\n",
       "      <td>42.881995</td>\n",
       "      <td>74.599591</td>\n",
       "    </tr>\n",
       "    <tr>\n",
       "      <th>497</th>\n",
       "      <td>498</td>\n",
       "      <td>Xiaomi M365 Pro</td>\n",
       "      <td>RentStroy</td>\n",
       "      <td>Доступен</td>\n",
       "      <td>42.854893</td>\n",
       "      <td>74.580358</td>\n",
       "    </tr>\n",
       "    <tr>\n",
       "      <th>498</th>\n",
       "      <td>499</td>\n",
       "      <td>OKAI ES400</td>\n",
       "      <td>Jet</td>\n",
       "      <td>Доступен</td>\n",
       "      <td>42.867202</td>\n",
       "      <td>74.607624</td>\n",
       "    </tr>\n",
       "    <tr>\n",
       "      <th>499</th>\n",
       "      <td>500</td>\n",
       "      <td>Ninebot Max Plus</td>\n",
       "      <td>Яндекс Go</td>\n",
       "      <td>На обслуживании</td>\n",
       "      <td>42.875213</td>\n",
       "      <td>74.609874</td>\n",
       "    </tr>\n",
       "  </tbody>\n",
       "</table>\n",
       "<p>500 rows × 6 columns</p>\n",
       "</div>"
      ],
      "text/plain": [
       "      ID            Модель   Компания           Статус     Широта    Долгота\n",
       "0      1      Okai ES200 B  RentStroy         Доступен  42.857493  74.598913\n",
       "1      2  Ninebot Max Plus      TO GO         Доступен  42.860573  74.589943\n",
       "2      3      Okai ES200 B      TO GO         Доступен  42.872189  74.608139\n",
       "3      4      Kugoo M2 Pro      TO GO            Занят  42.863482  74.600317\n",
       "4      5      Kugoo M2 Pro      TO GO  На обслуживании  42.862608  74.606418\n",
       "..   ...               ...        ...              ...        ...        ...\n",
       "495  496   Xiaomi M365 Pro  RentStroy  На обслуживании  42.876899  74.616329\n",
       "496  497        OKAI ES400      TO GO            Занят  42.881995  74.599591\n",
       "497  498   Xiaomi M365 Pro  RentStroy         Доступен  42.854893  74.580358\n",
       "498  499        OKAI ES400        Jet         Доступен  42.867202  74.607624\n",
       "499  500  Ninebot Max Plus  Яндекс Go  На обслуживании  42.875213  74.609874\n",
       "\n",
       "[500 rows x 6 columns]"
      ]
     },
     "execution_count": 6,
     "metadata": {},
     "output_type": "execute_result"
    }
   ],
   "source": [
    "df"
   ]
  },
  {
   "cell_type": "code",
   "execution_count": null,
   "metadata": {},
   "outputs": [],
   "source": []
  }
 ],
 "metadata": {
  "kernelspec": {
   "display_name": "Python 3",
   "language": "python",
   "name": "python3"
  },
  "language_info": {
   "codemirror_mode": {
    "name": "ipython",
    "version": 3
   },
   "file_extension": ".py",
   "mimetype": "text/x-python",
   "name": "python",
   "nbconvert_exporter": "python",
   "pygments_lexer": "ipython3",
   "version": "3.9.6"
  }
 },
 "nbformat": 4,
 "nbformat_minor": 2
}
